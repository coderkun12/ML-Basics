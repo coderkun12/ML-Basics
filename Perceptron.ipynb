{
 "cells": [
  {
   "cell_type": "code",
   "execution_count": 45,
   "id": "initial_id",
   "metadata": {},
   "outputs": [],
   "source": [
    "from sklearn.datasets import make_blobs\n",
    "from matplotlib import pyplot as plt\n",
    "import numpy as np"
   ]
  },
  {
   "cell_type": "markdown",
   "id": "cc865bc0-445e-4fbb-9edf-ac2cf6347eb7",
   "metadata": {},
   "source": [
    "## Manual implementation of a perceptron."
   ]
  },
  {
   "cell_type": "code",
   "execution_count": 46,
   "id": "1617184a81733e89",
   "metadata": {},
   "outputs": [],
   "source": [
    "class OwnPerceptron:\n",
    "    def __init__(self, learningRate=1.0, addBias=True, randomWeights=False, verbose=True,max_iter=50):\n",
    "        self.addBias = addBias\n",
    "        self.randomWeights = randomWeights\n",
    "        self.learningRate = learningRate\n",
    "        self.max_iter=max_iter\n",
    "        self.verbose = verbose\n",
    "        self.w = None\n",
    "        self.X = None\n",
    "        self.y = None\n",
    "        \n",
    "    def fit(self, X, y):\n",
    "        print(\"This needs to be done\")\n",
    "                \n",
    "    def plot_decision_boundaries(self):\n",
    "        if self.X.shape[1] == 3:\n",
    "            fig, ax = plt.subplots()\n",
    "            plt.scatter(self.X[:,1],self.X[:,2],c=y)\n",
    "            x_min = min(self.X[:,1])\n",
    "            x_max = max(self.X[:,1])\n",
    "            y_min = min(self.X[:,2])\n",
    "            y_max = max(self.X[:,2])\n",
    "            xx2, yy2 = np.meshgrid(np.arange(x_min, x_max, .02),\n",
    "                     np.arange(y_min, y_max, .02))\n",
    "            Z = self.predict(np.c_[np.ones_like(xx2.ravel()), xx2.ravel(), yy2.ravel()])\n",
    "            Z = Z.reshape(xx2.shape)\n",
    "            ax.contourf(xx2, yy2, Z, alpha=0.3)\n",
    "            plt.show()\n",
    "        else:\n",
    "            print(\"Plot only for 2D Problems implemented\")\n",
    "            \n",
    "    def predict(self, x):\n",
    "        print(\"This needs to be implemented\")"
   ]
  },
  {
   "cell_type": "code",
   "execution_count": 47,
   "id": "167d95cb2b0575ef",
   "metadata": {},
   "outputs": [
    {
     "name": "stdout",
     "output_type": "stream",
     "text": [
      "This needs to be done\n"
     ]
    }
   ],
   "source": [
    "myPerceptron = OwnPerceptron()\n",
    "X,y=make_blobs(n_samples=1000,n_features=6,centers=2,random_state=42)\n",
    "myPerceptron.fit(X, y)"
   ]
  },
  {
   "cell_type": "code",
   "execution_count": 48,
   "id": "6f3d81a7a79eb0ea",
   "metadata": {},
   "outputs": [
    {
     "ename": "AttributeError",
     "evalue": "'NoneType' object has no attribute 'shape'",
     "output_type": "error",
     "traceback": [
      "\u001b[1;31m---------------------------------------------------------------------------\u001b[0m",
      "\u001b[1;31mAttributeError\u001b[0m                            Traceback (most recent call last)",
      "Cell \u001b[1;32mIn[48], line 1\u001b[0m\n\u001b[1;32m----> 1\u001b[0m \u001b[43mmyPerceptron\u001b[49m\u001b[38;5;241;43m.\u001b[39;49m\u001b[43mplot_decision_boundaries\u001b[49m\u001b[43m(\u001b[49m\u001b[43m)\u001b[49m\n",
      "Cell \u001b[1;32mIn[46], line 16\u001b[0m, in \u001b[0;36mOwnPerceptron.plot_decision_boundaries\u001b[1;34m(self)\u001b[0m\n\u001b[0;32m     15\u001b[0m \u001b[38;5;28;01mdef\u001b[39;00m \u001b[38;5;21mplot_decision_boundaries\u001b[39m(\u001b[38;5;28mself\u001b[39m):\n\u001b[1;32m---> 16\u001b[0m     \u001b[38;5;28;01mif\u001b[39;00m \u001b[38;5;28;43mself\u001b[39;49m\u001b[38;5;241;43m.\u001b[39;49m\u001b[43mX\u001b[49m\u001b[38;5;241;43m.\u001b[39;49m\u001b[43mshape\u001b[49m[\u001b[38;5;241m1\u001b[39m] \u001b[38;5;241m==\u001b[39m \u001b[38;5;241m3\u001b[39m:\n\u001b[0;32m     17\u001b[0m         fig, ax \u001b[38;5;241m=\u001b[39m plt\u001b[38;5;241m.\u001b[39msubplots()\n\u001b[0;32m     18\u001b[0m         plt\u001b[38;5;241m.\u001b[39mscatter(\u001b[38;5;28mself\u001b[39m\u001b[38;5;241m.\u001b[39mX[:,\u001b[38;5;241m1\u001b[39m],\u001b[38;5;28mself\u001b[39m\u001b[38;5;241m.\u001b[39mX[:,\u001b[38;5;241m2\u001b[39m],c\u001b[38;5;241m=\u001b[39my)\n",
      "\u001b[1;31mAttributeError\u001b[0m: 'NoneType' object has no attribute 'shape'"
     ]
    }
   ],
   "source": [
    "myPerceptron.plot_decision_boundaries()"
   ]
  },
  {
   "cell_type": "markdown",
   "id": "79b87d8e-91ac-4835-80d6-1ae8330e1cf8",
   "metadata": {},
   "source": [
    "## Scikit-learn implementation of Perceptron."
   ]
  },
  {
   "cell_type": "code",
   "execution_count": 49,
   "id": "f131501e06e28cfa",
   "metadata": {},
   "outputs": [
    {
     "name": "stdout",
     "output_type": "stream",
     "text": [
      "-- Epoch 1\n",
      "Norm: 18.63, NNZs: 6, Bias: 0.000000, T: 750, Avg. loss: 0.116840\n",
      "Total training time: 0.02 seconds.\n",
      "-- Epoch 2\n",
      "Norm: 18.63, NNZs: 6, Bias: 0.000000, T: 1500, Avg. loss: 0.000000\n",
      "Total training time: 0.02 seconds.\n",
      "-- Epoch 3\n",
      "Norm: 18.63, NNZs: 6, Bias: 0.000000, T: 2250, Avg. loss: 0.000000\n",
      "Total training time: 0.02 seconds.\n",
      "-- Epoch 4\n",
      "Norm: 18.63, NNZs: 6, Bias: 0.000000, T: 3000, Avg. loss: 0.000000\n",
      "Total training time: 0.02 seconds.\n",
      "-- Epoch 5\n",
      "Norm: 18.63, NNZs: 6, Bias: 0.000000, T: 3750, Avg. loss: 0.000000\n",
      "Total training time: 0.02 seconds.\n",
      "-- Epoch 6\n",
      "Norm: 18.63, NNZs: 6, Bias: 0.000000, T: 4500, Avg. loss: 0.000000\n",
      "Total training time: 0.02 seconds.\n",
      "-- Epoch 7\n",
      "Norm: 18.63, NNZs: 6, Bias: 0.000000, T: 5250, Avg. loss: 0.000000\n",
      "Total training time: 0.02 seconds.\n",
      "Convergence after 7 epochs took 0.02 seconds\n"
     ]
    }
   ],
   "source": [
    "from sklearn.linear_model import Perceptron\n",
    "from sklearn.model_selection import train_test_split\n",
    "from sklearn.metrics import accuracy_score, confusion_matrix\n",
    "\n",
    "Percep=Perceptron(alpha=0.7,verbose=True,random_state=42,max_iter=50)\n",
    "X_train,X_test,y_train,y_test=train_test_split(X,y,test_size=0.25,random_state=42)\n",
    "model=Percep.fit(X_train,y_train)\n",
    "y_preds=model.predict(X_test)\n",
    "cm = confusion_matrix(y_test, y_preds)"
   ]
  },
  {
   "cell_type": "code",
   "execution_count": 54,
   "id": "895a0885-ba7c-47f6-977b-de78e619e813",
   "metadata": {},
   "outputs": [
    {
     "name": "stdout",
     "output_type": "stream",
     "text": [
      "Accuracy of the model is:  1.0 \n",
      "\n",
      "Confusion matrix is as follows:-\n"
     ]
    },
    {
     "data": {
      "image/png": "[encoded data removed]",
      "text/plain": [
       "<Figure size 800x600 with 2 Axes>"
      ]
     },
     "metadata": {},
     "output_type": "display_data"
    }
   ],
   "source": [
    "print(\"Accuracy of the model is: \",accuracy_score(y_preds,y_test),\"\\n\\nConfusion matrix is as follows:-\")\n",
    "\n",
    "plt.figure(figsize=(8, 6))\n",
    "plt.imshow(cm, interpolation='nearest', cmap=plt.cm.PuBu)\n",
    "plt.colorbar() \n",
    "\n",
    "plt.xlabel('Predicted Label')\n",
    "plt.ylabel('True Label')\n",
    "plt.title('Confusion Matrix')\n",
    "plt.show()"
   ]
  }
 ],
 "metadata": {
  "kernelspec": {
   "display_name": "Python 3 (ipykernel)",
   "language": "python",
   "name": "python3"
  },
  "language_info": {
   "codemirror_mode": {
    "name": "ipython",
    "version": 3
   },
   "file_extension": ".py",
   "mimetype": "text/x-python",
   "name": "python",
   "nbconvert_exporter": "python",
   "pygments_lexer": "ipython3",
   "version": "3.12.5"
  }
 },
 "nbformat": 4,
 "nbformat_minor": 5
}
